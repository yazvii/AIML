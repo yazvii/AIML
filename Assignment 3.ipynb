{
 "cells": [
  {
   "cell_type": "code",
   "execution_count": 3,
   "id": "a4134219-d667-449e-95c7-e291a120004f",
   "metadata": {},
   "outputs": [
    {
     "name": "stdout",
     "output_type": "stream",
     "text": [
      "   Courses    Fee Duration Discount\n",
      "0    SPARK  22000   30days     1000\n",
      "1  PYSPARK  25000   50days     2300\n",
      "2   HADOOP  24000   40days     2500\n",
      "3   PANDAS  26000   60days     1400\n"
     ]
    }
   ],
   "source": [
    "import pandas as pd\n",
    "import numpy as np\n",
    "technologies= ({\n",
    "    'Courses':[\"SPARK\",\"PYSPARK\",\"HADOOP\",\"PANDAS\"],\n",
    "    'Fee' :['22000','25000','24000','26000'],\n",
    "    'Duration':['30days','50days','40days','60days'],\n",
    "    'Discount':['1000','2300','2500','1400']\n",
    "              })\n",
    "df = pd.DataFrame(technologies)\n",
    "print(df)"
   ]
  },
  {
   "cell_type": "code",
   "execution_count": 4,
   "id": "7c152fe6-cb84-4a2b-917c-c212cd6bf5fe",
   "metadata": {},
   "outputs": [
    {
     "name": "stdout",
     "output_type": "stream",
     "text": [
      "   Courses    Fee Duration Discount\n",
      "0    spark  22000   30days     1000\n",
      "1  pyspark  25000   50days     2300\n",
      "2   hadoop  24000   40days     2500\n",
      "3   pandas  26000   60days     1400\n"
     ]
    }
   ],
   "source": [
    "#convert lowercase column use str.lower()\n",
    "df['Courses'] = df['Courses'].str.lower()\n",
    "print(df)"
   ]
  },
  {
   "cell_type": "code",
   "execution_count": 5,
   "id": "a8f95c5d-6db6-42ac-9264-1c3470541d0b",
   "metadata": {},
   "outputs": [
    {
     "name": "stdout",
     "output_type": "stream",
     "text": [
      "   Courses    Fee Duration Discount\n",
      "0    spark  22000   30days     1000\n",
      "1  pyspark  25000   50days     2300\n",
      "2   hadoop  24000   40days     2500\n",
      "3   pandas  26000   60days     1400\n"
     ]
    }
   ],
   "source": [
    "# convert lowercase column use apply()\n",
    "df['Courses'] = df['Courses'].apply(str.lower)\n",
    "print(df)"
   ]
  },
  {
   "cell_type": "code",
   "execution_count": 6,
   "id": "e406ab89-13e5-4811-92f7-1014f51f13ab",
   "metadata": {},
   "outputs": [
    {
     "name": "stdout",
     "output_type": "stream",
     "text": [
      "   Courses    Fee Duration Discount\n",
      "0    spark  22000   30days     1000\n",
      "1  pyspark  25000   50days     2300\n",
      "2   hadoop  24000   40days     2500\n",
      "3   pandas  26000   60days     1400\n"
     ]
    }
   ],
   "source": [
    "# Use apply() & lambda function\n",
    "df['Courses'].apply(lambda x: x.lower())\n",
    "print(df)"
   ]
  },
  {
   "cell_type": "code",
   "execution_count": 7,
   "id": "389e1e97-7194-4425-9c52-2f7dc0dabe25",
   "metadata": {},
   "outputs": [
    {
     "name": "stdout",
     "output_type": "stream",
     "text": [
      "   Courses    Fee Duration Discount\n",
      "0    spark  22000   30days     1000\n",
      "1  pyspark  25000   50days     2300\n",
      "2   hadoop  24000   40days     2500\n",
      "3   pandas  26000   60days     1400\n"
     ]
    }
   ],
   "source": [
    "# Convert pandas column to lowercase use map()\n",
    "df['Courses'] = df['Courses'].map(str.lower)\n",
    "print(df)"
   ]
  },
  {
   "cell_type": "code",
   "execution_count": 8,
   "id": "736d3795-fa31-435f-af21-9a555b5abc85",
   "metadata": {},
   "outputs": [
    {
     "name": "stdout",
     "output_type": "stream",
     "text": [
      "   Courses    Fee Duration Discount\n",
      "0    SPARK  22000   30days     1000\n",
      "1  PYSPARK  25000   50days     2300\n",
      "2   HADOOP  24000   40days     2500\n",
      "3   PANDAS  26000   60days     1400\n"
     ]
    }
   ],
   "source": [
    "df['Courses'] = df['Courses'].map(str.upper)\n",
    "print(df)"
   ]
  },
  {
   "cell_type": "code",
   "execution_count": 12,
   "id": "0a84697d-3aa9-4166-8991-4c2e917acc7a",
   "metadata": {},
   "outputs": [
    {
     "data": {
      "text/plain": [
       "0    6\n",
       "1    8\n",
       "2    7\n",
       "3    8\n",
       "4    8\n",
       "Name: name, dtype: int64"
      ]
     },
     "execution_count": 12,
     "metadata": {},
     "output_type": "execute_result"
    }
   ],
   "source": [
    "import pandas as pd\n",
    "\n",
    "data = pd.DataFrame({\n",
    "\n",
    "    'age' : [15, 17, 20, 14, 25],\n",
    "\n",
    "    'name': [\"Sample\", \"New User\", \"My Name\", \"Jane Doe\", \"John Doe\"]\n",
    "\n",
    "})\n",
    "\n",
    "data['name'].str.len()"
   ]
  },
  {
   "cell_type": "code",
   "execution_count": 13,
   "id": "6079cd13-52a4-4ada-affa-8e757f05899f",
   "metadata": {},
   "outputs": [
    {
     "data": {
      "text/plain": [
       "0    1. Bat.\n",
       "1    2. Dog!\n",
       "2    3. fox?\n",
       "3        NaN\n",
       "dtype: object"
      ]
     },
     "execution_count": 13,
     "metadata": {},
     "output_type": "execute_result"
    }
   ],
   "source": [
    "import numpy as np\n",
    "import pandas as pd\n",
    "s = pd.Series(['1. Bat.  ', '2. Dog!\\n', '3. fox?\\t', np.nan])\n",
    "s.str.strip()"
   ]
  },
  {
   "cell_type": "code",
   "execution_count": 14,
   "id": "72c3fd85-8a7a-49ff-8771-a890dadaf6a4",
   "metadata": {},
   "outputs": [
    {
     "data": {
      "text/plain": [
       "0                         [this, is, my, new, pen]\n",
       "1    [https://www.w3resource.com/pandas/index.php]\n",
       "2                                              NaN\n",
       "dtype: object"
      ]
     },
     "execution_count": 14,
     "metadata": {},
     "output_type": "execute_result"
    }
   ],
   "source": [
    "import numpy as np\n",
    "import pandas as pd\n",
    "s = pd.Series([\"this is my new pen\",\n",
    "               \"https://www.w3resource.com/pandas/index.php\",\n",
    "               np.nan])\n",
    "s.str.split()\t\t"
   ]
  },
  {
   "cell_type": "code",
   "execution_count": 23,
   "id": "1e4c21d6-3f32-44f1-b2d2-c83346445527",
   "metadata": {},
   "outputs": [
    {
     "name": "stdout",
     "output_type": "stream",
     "text": [
      "   Courses    Fee Duration Discount Courses_split  Contains_SP\n",
      "0    SPARK  22000   30days     1000       [SPARK]         True\n",
      "1  PYSPARK  25000   50days     2300     [PYSPARK]         True\n",
      "2   HADOOP  24000   40days     2500      [HADOOP]        False\n",
      "3   PANDAS  26000   60days     1400      [PANDAS]        False\n"
     ]
    }
   ],
   "source": [
    "# str.split()\n",
    "df['Courses_split'] = df['Courses'].str.split()\n",
    "print(df)"
   ]
  },
  {
   "cell_type": "code",
   "execution_count": 24,
   "id": "bd393c8d-3907-49a6-baa3-89a4b45c3923",
   "metadata": {},
   "outputs": [
    {
     "name": "stdout",
     "output_type": "stream",
     "text": [
      "   Courses    Fee Duration Discount Courses_split  Contains_SP\n",
      "0    SPARK  22000   30days     1000       [SPARK]         True\n",
      "1  PYSPARK  25000   50days     2300     [PYSPARK]         True\n",
      "2   HADOOP  24000   40days     2500      [HADOOP]        False\n",
      "3   PANDAS  26000   60days     1400      [PANDAS]        False\n"
     ]
    }
   ],
   "source": [
    "# str.contains()\n",
    "df['Contains_SP'] = df['Courses'].str.contains('SP')\n",
    "print(df)"
   ]
  },
  {
   "cell_type": "code",
   "execution_count": 25,
   "id": "649b76fb-106d-45e2-b524-a0ee755f81c1",
   "metadata": {},
   "outputs": [
    {
     "name": "stdout",
     "output_type": "stream",
     "text": [
      "   Courses    Fee Duration Discount Courses_split  Contains_SP  \\\n",
      "0    SPARK  22000   30days     1000       [SPARK]         True   \n",
      "1  PYSPARK  25000   50days     2300     [PYSPARK]         True   \n",
      "2   HADOOP  24000   40days     2500      [HADOOP]        False   \n",
      "3   PANDAS  26000   60days     1400      [PANDAS]        False   \n",
      "\n",
      "  Duration_replace  \n",
      "0               30  \n",
      "1               50  \n",
      "2               40  \n",
      "3               60  \n"
     ]
    }
   ],
   "source": [
    "# str.replace()\n",
    "df['Duration_replace'] = df['Duration'].str.replace('days', '')\n",
    "print(df)"
   ]
  },
  {
   "cell_type": "code",
   "execution_count": 26,
   "id": "6b0c70ab-1739-48e5-9b40-7f3bf5896a2e",
   "metadata": {},
   "outputs": [
    {
     "name": "stdout",
     "output_type": "stream",
     "text": [
      "   Courses    Fee Duration Discount Courses_split  Contains_SP  \\\n",
      "0    SPARK  22000   30days     1000       [SPARK]         True   \n",
      "1  PYSPARK  25000   50days     2300     [PYSPARK]         True   \n",
      "2   HADOOP  24000   40days     2500      [HADOOP]        False   \n",
      "3   PANDAS  26000   60days     1400      [PANDAS]        False   \n",
      "\n",
      "  Duration_replace  Startswith_P  \n",
      "0               30         False  \n",
      "1               50          True  \n",
      "2               40         False  \n",
      "3               60          True  \n"
     ]
    }
   ],
   "source": [
    "# str.startswith()\n",
    "df['Startswith_P'] = df['Courses'].str.startswith('P')\n",
    "print(df)"
   ]
  },
  {
   "cell_type": "code",
   "execution_count": 28,
   "id": "3046de53-a98c-442d-bc39-d20cdea101d3",
   "metadata": {},
   "outputs": [
    {
     "name": "stdout",
     "output_type": "stream",
     "text": [
      "   Courses    Fee Duration Discount Courses_split  Contains_SP  \\\n",
      "0    SPARK  22000   30days     1000       [SPARK]         True   \n",
      "1  PYSPARK  25000   50days     2300     [PYSPARK]         True   \n",
      "2   HADOOP  24000   40days     2500      [HADOOP]        False   \n",
      "3   PANDAS  26000   60days     1400      [PANDAS]        False   \n",
      "\n",
      "  Duration_replace  Startswith_P  Endswith_KS  \n",
      "0               30         False        False  \n",
      "1               50          True        False  \n",
      "2               40         False        False  \n",
      "3               60          True        False  \n"
     ]
    }
   ],
   "source": [
    "# str.endswith()\n",
    "df['Endswith_KS'] = df['Courses'].str.endswith('KS')\n",
    "print(df)"
   ]
  },
  {
   "cell_type": "code",
   "execution_count": 31,
   "id": "0fdd6144-565b-46d9-9913-e72596b541ed",
   "metadata": {},
   "outputs": [
    {
     "name": "stdout",
     "output_type": "stream",
     "text": [
      "   Courses    Fee Duration Discount Courses_split  Contains_SP  \\\n",
      "0    SPARK  22000   30days     1000       [SPARK]         True   \n",
      "1  PYSPARK  25000   50days     2300     [PYSPARK]         True   \n",
      "2   HADOOP  24000   40days     2500      [HADOOP]        False   \n",
      "3   PANDAS  26000   60days     1400      [PANDAS]        False   \n",
      "\n",
      "  Duration_replace  Startswith_P  Endswith_KS    Concatenated  \n",
      "0               30         False        False    SPARK_30days  \n",
      "1               50          True        False  PYSPARK_50days  \n",
      "2               40         False        False   HADOOP_40days  \n",
      "3               60          True        False   PANDAS_60days  \n"
     ]
    }
   ],
   "source": [
    "# str.cat()\n",
    "df['Concatenated'] = df['Courses'].str.cat(df['Duration'], sep='_')\n",
    "print(df)"
   ]
  },
  {
   "cell_type": "code",
   "execution_count": 32,
   "id": "6258a7cd-69e4-4c48-aaa8-e54c2e07623d",
   "metadata": {},
   "outputs": [
    {
     "name": "stdout",
     "output_type": "stream",
     "text": [
      "   Courses    Fee Duration Discount Courses_split  Contains_SP  \\\n",
      "0    SPARK  22000   30days     1000       [SPARK]         True   \n",
      "1  PYSPARK  25000   50days     2300     [PYSPARK]         True   \n",
      "2   HADOOP  24000   40days     2500      [HADOOP]        False   \n",
      "3   PANDAS  26000   60days     1400      [PANDAS]        False   \n",
      "\n",
      "  Duration_replace  Startswith_P  Endswith_KS    Concatenated First_letter  \n",
      "0               30         False        False    SPARK_30days            S  \n",
      "1               50          True        False  PYSPARK_50days            P  \n",
      "2               40         False        False   HADOOP_40days            H  \n",
      "3               60          True        False   PANDAS_60days            P  \n"
     ]
    }
   ],
   "source": [
    "# str.get()\n",
    "df['First_letter'] = df['Courses'].str.get(0)\n",
    "print(df)"
   ]
  },
  {
   "cell_type": "code",
   "execution_count": 33,
   "id": "fd81ece2-adde-4f4d-b844-e47ec921c796",
   "metadata": {},
   "outputs": [
    {
     "name": "stdout",
     "output_type": "stream",
     "text": [
      "   Courses    Fee Duration Discount Courses_split  Contains_SP  \\\n",
      "0    SPARK  22000   30days     1000       [SPARK]         True   \n",
      "1  PYSPARK  25000   50days     2300     [PYSPARK]         True   \n",
      "2   HADOOP  24000   40days     2500      [HADOOP]        False   \n",
      "3   PANDAS  26000   60days     1400      [PANDAS]        False   \n",
      "\n",
      "  Duration_replace  Startswith_P  Endswith_KS    Concatenated First_letter  \n",
      "0               30         False        False    SPARK_30days            P  \n",
      "1               50          True        False  PYSPARK_50days            Y  \n",
      "2               40         False        False   HADOOP_40days            A  \n",
      "3               60          True        False   PANDAS_60days            A  \n"
     ]
    }
   ],
   "source": [
    "# str.get()\n",
    "df['First_letter'] = df['Courses'].str.get(1)\n",
    "print(df)"
   ]
  },
  {
   "cell_type": "code",
   "execution_count": 34,
   "id": "47e8bfd7-501e-4054-83fb-4cc4b56bd5f5",
   "metadata": {},
   "outputs": [
    {
     "name": "stdout",
     "output_type": "stream",
     "text": [
      "   Courses    Fee Duration Discount Courses_split  Contains_SP  \\\n",
      "0    SPARK  22000   30days     1000       [SPARK]         True   \n",
      "1  PYSPARK  25000   50days     2300     [PYSPARK]         True   \n",
      "2   HADOOP  24000   40days     2500      [HADOOP]        False   \n",
      "3   PANDAS  26000   60days     1400      [PANDAS]        False   \n",
      "\n",
      "  Duration_replace  Startswith_P  Endswith_KS    Concatenated First_letter  \\\n",
      "0               30         False        False    SPARK_30days            P   \n",
      "1               50          True        False  PYSPARK_50days            Y   \n",
      "2               40         False        False   HADOOP_40days            A   \n",
      "3               60          True        False   PANDAS_60days            A   \n",
      "\n",
      "  Sliced  \n",
      "0     PA  \n",
      "1     YS  \n",
      "2     AD  \n",
      "3     AN  \n"
     ]
    }
   ],
   "source": [
    "# str.slice()\n",
    "df['Sliced'] = df['Courses'].str.slice(1, 3)\n",
    "print(df)"
   ]
  },
  {
   "cell_type": "code",
   "execution_count": 35,
   "id": "e20abf4a-e96d-4198-9e54-efcc64fa709f",
   "metadata": {},
   "outputs": [
    {
     "name": "stdout",
     "output_type": "stream",
     "text": [
      "   Courses    Fee Duration Discount Courses_split  Contains_SP  \\\n",
      "0    SPARK  22000   30days     1000       [SPARK]         True   \n",
      "1  PYSPARK  25000   50days     2300     [PYSPARK]         True   \n",
      "2   HADOOP  24000   40days     2500      [HADOOP]        False   \n",
      "3   PANDAS  26000   60days     1400      [PANDAS]        False   \n",
      "\n",
      "  Duration_replace  Startswith_P  Endswith_KS    Concatenated First_letter  \\\n",
      "0               30         False        False    SPARK_30days            P   \n",
      "1               50          True        False  PYSPARK_50days            Y   \n",
      "2               40         False        False   HADOOP_40days            A   \n",
      "3               60          True        False   PANDAS_60days            A   \n",
      "\n",
      "  Sliced  Find_A  \n",
      "0     PA       2  \n",
      "1     YS       4  \n",
      "2     AD       1  \n",
      "3     AN       1  \n"
     ]
    }
   ],
   "source": [
    "# str.find()\n",
    "df['Find_A'] = df['Courses'].str.find('A')\n",
    "print(df)"
   ]
  },
  {
   "cell_type": "code",
   "execution_count": null,
   "id": "9844924d-4838-4569-b85a-b3a2dd6999da",
   "metadata": {},
   "outputs": [],
   "source": []
  }
 ],
 "metadata": {
  "kernelspec": {
   "display_name": "Python 3 (ipykernel)",
   "language": "python",
   "name": "python3"
  },
  "language_info": {
   "codemirror_mode": {
    "name": "ipython",
    "version": 3
   },
   "file_extension": ".py",
   "mimetype": "text/x-python",
   "name": "python",
   "nbconvert_exporter": "python",
   "pygments_lexer": "ipython3",
   "version": "3.12.1"
  }
 },
 "nbformat": 4,
 "nbformat_minor": 5
}
